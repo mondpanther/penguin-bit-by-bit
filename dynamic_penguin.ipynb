{
 "cells": [
  {
   "cell_type": "markdown",
   "metadata": {},
   "source": [
    "# Penguin Bit-By-Bit\n",
    "\n",
    "Let's build a game bit by bit!\n",
    "\n",
    "Bear, um, with us.\n",
    "The following lines are the only boilerplate,\n",
    "just execute the cell\n",
    "(by clicking CTRL-Enter)\n",
    "and move on."
   ]
  },
  {
   "cell_type": "code",
   "execution_count": 1,
   "metadata": {},
   "outputs": [],
   "source": [
    "from twisted.internet import asyncioreactor\n",
    "asyncioreactor.install()\n",
    "__file__ = None"
   ]
  },
  {
   "cell_type": "markdown",
   "metadata": {},
   "source": [
    "Next, we need a\n",
    "\"setup\"\n",
    "function.\n",
    "A setup function traditionally sets up the game elements.\n",
    "However,\n",
    "our function will just put the game\n",
    "\"scene\"\n",
    "in a global variable."
   ]
  },
  {
   "cell_type": "code",
   "execution_count": 2,
   "metadata": {},
   "outputs": [],
   "source": [
    "def setup(scene):\n",
    "    global SCENE\n",
    "    SCENE = scene"
   ]
  },
  {
   "cell_type": "markdown",
   "metadata": {},
   "source": [
    "Wondeful! Now let's start the game loop.\n",
    "This will open a window with nothing in it."
   ]
  },
  {
   "cell_type": "code",
   "execution_count": 3,
   "metadata": {},
   "outputs": [
    {
     "name": "stdout",
     "output_type": "stream",
     "text": [
      "UserWarning: Using SDL2 binaries from pysdl2-dll 2.0.14\n"
     ]
    },
    {
     "data": {
      "text/plain": [
       "<Deferred at 0x16e45c49b20>"
      ]
     },
     "execution_count": 3,
     "metadata": {},
     "output_type": "execute_result"
    }
   ],
   "source": [
    "import txppb\n",
    "d = txppb.run(setup)\n",
    "d.addBoth(print)"
   ]
  },
  {
   "cell_type": "markdown",
   "metadata": {},
   "source": [
    "The game is called \"penguin bit by bit\",\n",
    "so we should probably have a penguin.\n",
    "In PPB,\n",
    "these are called \"sprites\".\n",
    "This is the standard terminology for video games."
   ]
  },
  {
   "cell_type": "code",
   "execution_count": 4,
   "metadata": {},
   "outputs": [],
   "source": [
    "import ppb\n",
    "\n",
    "class Penguin(ppb.Sprite):\n",
    "    pass"
   ]
  },
  {
   "cell_type": "markdown",
   "metadata": {},
   "source": [
    "We defined a penguin.\n",
    "In PPB, game objects are called \"sprites\".\n",
    "This is common in video game development.\n",
    "\n",
    "In PPB, sprites automatically find the image if it is in the current directory,\n",
    "and named the same as the sprite.\n",
    "I made sure I had a cute little png named `penguin.png`.\n",
    "\n",
    "Now let's put the penguin riiiiiight in the middle."
   ]
  },
  {
   "cell_type": "code",
   "execution_count": 5,
   "metadata": {},
   "outputs": [],
   "source": [
    "SCENE.add(Penguin(pos=(0,0)))"
   ]
  },
  {
   "cell_type": "markdown",
   "metadata": {},
   "source": [
    "But penguins are not meant to sit still! The penguin should move around.\n",
    "We have the player control the penguin with the arrow keys.\n",
    "First, let's map the keys to vectors:"
   ]
  },
  {
   "cell_type": "code",
   "execution_count": 6,
   "metadata": {},
   "outputs": [],
   "source": [
    "from ppb import keycodes\n",
    "\n",
    "DIRECTIONS = {keycodes.Left: ppb.Vector(-1,0), keycodes.Right: ppb.Vector(1,0),\n",
    "              keycodes.Up: ppb.Vector(0, 1), keycodes.Down: ppb.Vector(0, -1)}"
   ]
  },
  {
   "cell_type": "code",
   "execution_count": 7,
   "metadata": {},
   "outputs": [],
   "source": [
    "from mzutil import set_in_class\n",
    "\n",
    "Penguin.direction = ppb.Vector(0, 0)\n",
    "\n",
    "@set_in_class(Penguin)\n",
    "def on_update(self, update_event, signal):\n",
    "    self.position += update_event.time_delta * self.direction"
   ]
  },
  {
   "cell_type": "markdown",
   "metadata": {},
   "source": [
    "Next let's make sure the penguin has a sense of direction, and it follows it:"
   ]
  },
  {
   "cell_type": "markdown",
   "metadata": {},
   "source": [
    "Oh, um, well.\n",
    "The penguin is diligently moving...at zero speed,\n",
    "precisely nowhere.\n",
    "Let's manually set the direction to see what happens."
   ]
  },
  {
   "cell_type": "code",
   "execution_count": 8,
   "metadata": {},
   "outputs": [],
   "source": [
    "Penguin.direction = DIRECTIONS[keycodes.Up]/4"
   ]
  },
  {
   "cell_type": "markdown",
   "metadata": {},
   "source": [
    "The direction is up, but a little slowly. This gives enough time to set the penguin's direction back to zero manually.\n",
    "Let's do that now!"
   ]
  },
  {
   "cell_type": "code",
   "execution_count": 9,
   "metadata": {},
   "outputs": [],
   "source": [
    "Penguin.direction = ppb.Vector(0, 0)"
   ]
  },
  {
   "cell_type": "markdown",
   "metadata": {},
   "source": [
    "Phew, that was exciting -- but not what we wanted.\n",
    "We want the penguin to respond to key presses.\n",
    "Let's set it to set the direction to the key press,\n",
    "and back to zero when the key is released."
   ]
  },
  {
   "cell_type": "code",
   "execution_count": 10,
   "metadata": {},
   "outputs": [],
   "source": [
    "@set_in_class(Penguin)\n",
    "def on_key_pressed(self, key_event, signal):\n",
    "    self.direction = DIRECTIONS.get(key_event.key, ppb.Vector(0, 0))    \n",
    "\n",
    "@set_in_class(Penguin)\n",
    "def on_key_released(self, key_event, signal):\n",
    "    if key_event.key in DIRECTIONS:\n",
    "        self.direction = ppb.Vector(0, 0)"
   ]
  },
  {
   "cell_type": "markdown",
   "metadata": {},
   "source": [
    "The Penguin is a bit bored, isn't it?\n",
    "Maybe we should give it an orange ball to play with."
   ]
  },
  {
   "cell_type": "code",
   "execution_count": 11,
   "metadata": {},
   "outputs": [],
   "source": [
    "class OrangeBall(ppb.Sprite):\n",
    "    pass"
   ]
  },
  {
   "cell_type": "markdown",
   "metadata": {},
   "source": [
    "Again, I made sure to have an image called `orangeball.png`.\n",
    "Now let's put the ball on the left side of the screen."
   ]
  },
  {
   "cell_type": "code",
   "execution_count": 12,
   "metadata": {},
   "outputs": [],
   "source": [
    "SCENE.add(OrangeBall(pos=(-4, 0)))"
   ]
  },
  {
   "cell_type": "markdown",
   "metadata": {},
   "source": [
    "Try as it might, the penguin cannot kick the ball.\n",
    "Let's have the ball move away from the penguin when it approaches.\n",
    "\n",
    "First, let's define what it means to \"kick\" the ball.\n",
    "Kicking the ball means deciding where it is going to be in one second,\n",
    "and then setting its state to \"moving\".\n",
    "\n",
    "At first, we will just move it by having the first update move it to the target position."
   ]
  },
  {
   "cell_type": "code",
   "execution_count": 13,
   "metadata": {},
   "outputs": [],
   "source": [
    "OrangeBall.is_moving = False\n",
    "\n",
    "@set_in_class(OrangeBall)\n",
    "def kick(self, direction):\n",
    "    self.target_position = self.position + direction\n",
    "    self.original_position = self.position\n",
    "    self.time_passed = 0\n",
    "    self.is_moving = True\n",
    "\n",
    "@set_in_class(OrangeBall)\n",
    "def on_update(self, update_event, signal):\n",
    "    if self.is_moving:\n",
    "        self.position = self.target_position\n",
    "        self.is_moving = False"
   ]
  },
  {
   "cell_type": "markdown",
   "metadata": {},
   "source": [
    "Let's see how it works -- give the orange ball a good kick up and to the right."
   ]
  },
  {
   "cell_type": "code",
   "execution_count": 14,
   "metadata": {},
   "outputs": [],
   "source": [
    "ball, = SCENE.get(kind=OrangeBall)\n",
    "ball.kick(ppb.Vector(1, 1))"
   ]
  },
  {
   "cell_type": "markdown",
   "metadata": {},
   "source": [
    "But this does not look great -- the ball just teleports.\n",
    "We want it to move between the original position\n",
    "and target position, occupying the points in between.\n",
    "\n",
    "When it's moving, it will interpolate between where it is,\n",
    "and where it needs to go.\n",
    "\n",
    "Naively, we would use linear interpolation. But a cool video game tick is to use an \"easing\" function.\n",
    "Here, we use the common \"smooth step\"."
   ]
  },
  {
   "cell_type": "code",
   "execution_count": 15,
   "metadata": {},
   "outputs": [],
   "source": [
    "from mzutil import smooth_step\n",
    "\n",
    "@set_in_class(OrangeBall)\n",
    "def maybe_move(self, update_event, signal):\n",
    "    if not self.is_moving:\n",
    "        return False\n",
    "    self.time_passed += update_event.time_delta\n",
    "    if self.time_passed >= 1:\n",
    "        self.position = self.target_position\n",
    "        self.is_moving = False\n",
    "        return False\n",
    "    t = smooth_step(self.time_passed)\n",
    "    self.position = (1-t) * self.original_position + t * self.target_position\n",
    "    return True\n",
    "\n",
    "OrangeBall.on_update = OrangeBall.maybe_move"
   ]
  },
  {
   "cell_type": "markdown",
   "metadata": {},
   "source": [
    "Now, let's try kicking it again."
   ]
  },
  {
   "cell_type": "code",
   "execution_count": 16,
   "metadata": {},
   "outputs": [],
   "source": [
    "ball, = SCENE.get(kind=OrangeBall)\n",
    "ball.kick(ppb.Vector(1, -1))"
   ]
  },
  {
   "cell_type": "markdown",
   "metadata": {},
   "source": [
    "But really, the penguin should be kicking the ball.\n",
    "When the ball sees that it is colliding with the penguin,\n",
    "it will kick itself in the opposite direction.\n",
    "If the penguin has gotten right on top of it,\n",
    "the ball will choose a random direction.\n",
    "\n",
    "The update function now calls `maybe_move` and will only check collision\n",
    "if we are not moving right now."
   ]
  },
  {
   "cell_type": "code",
   "execution_count": 17,
   "metadata": {},
   "outputs": [],
   "source": [
    "from mzutil import collide\n",
    "import random\n",
    "\n",
    "OrangeBall.x_offset = OrangeBall.y_offset = 0.25\n",
    "\n",
    "@set_in_class(OrangeBall)\n",
    "def on_update(self, update_event,signal):\n",
    "    if self.maybe_move(update_event, signal):\n",
    "        return\n",
    "    penguin, = update_event.scene.get(kind=Penguin)\n",
    "    if not collide(penguin, self):\n",
    "        return\n",
    "    try:\n",
    "        direction = (self.position - penguin.position).normalize()\n",
    "    except ZeroDivisionError:\n",
    "        direction = ppb.Vector(random.uniform(-1, 1), random.uniform(-1, 1)).normalize()\n",
    "    self.kick(direction)"
   ]
  },
  {
   "cell_type": "markdown",
   "metadata": {},
   "source": [
    "But just kicking a ball around is not that much fun. Let's add a target."
   ]
  },
  {
   "cell_type": "code",
   "execution_count": 18,
   "metadata": {},
   "outputs": [],
   "source": [
    "class Target(ppb.Sprite):\n",
    "    pass"
   ]
  },
  {
   "cell_type": "markdown",
   "metadata": {},
   "source": [
    "Let's put the target at the right of the screen."
   ]
  },
  {
   "cell_type": "code",
   "execution_count": 19,
   "metadata": {},
   "outputs": [],
   "source": [
    "SCENE.add(Target(pos=(4, 0)))"
   ]
  },
  {
   "cell_type": "markdown",
   "metadata": {},
   "source": [
    "Now, we will want a reward for the penguin,\n",
    "when it kicks the ball into the target.\n",
    "How about a fish?"
   ]
  },
  {
   "cell_type": "code",
   "execution_count": 20,
   "metadata": {},
   "outputs": [],
   "source": [
    "class Fish(ppb.Sprite):\n",
    "    pass"
   ]
  },
  {
   "cell_type": "markdown",
   "metadata": {},
   "source": [
    "When the target gets the ball, it should remove it, and create a new ball at the other end of the screen.\n",
    "Then, it will cause a fish to appear."
   ]
  },
  {
   "cell_type": "code",
   "execution_count": 21,
   "metadata": {},
   "outputs": [],
   "source": [
    "@set_in_class(Target)\n",
    "def on_update(self, update_event, signal):\n",
    "    for ball in update_event.scene.get(kind=OrangeBall):\n",
    "        if not collide(ball, self):\n",
    "            continue\n",
    "        update_event.scene.remove(ball)\n",
    "        update_event.scene.add(OrangeBall(pos=(-4, random.uniform(-3, 3))))\n",
    "        update_event.scene.add(Fish(pos=(random.uniform(-4, -3), random.uniform(-3, 3))))"
   ]
  },
  {
   "cell_type": "markdown",
   "metadata": {},
   "source": [
    "We want to have the penguin eat the fish.\n",
    "When the fish sees the penguin, it should vanish."
   ]
  },
  {
   "cell_type": "code",
   "execution_count": 22,
   "metadata": {},
   "outputs": [
    {
     "name": "stdout",
     "output_type": "stream",
     "text": [
      "[Failure instance: Traceback: <class 'ppb.systems._sdl_utils.SdlError'>: Error calling SDL_RenderPresent: Present(): DEVICELOST\n",
      "C:\\ProgramData\\Anaconda3\\lib\\asyncio\\base_events.py:1859:_run_once\n",
      "C:\\ProgramData\\Anaconda3\\lib\\asyncio\\events.py:81:_run\n",
      "C:\\Users\\rmart\\AppData\\Roaming\\Python\\Python38\\site-packages\\twisted\\internet\\asyncioreactor.py:290:run\n",
      "C:\\Users\\rmart\\AppData\\Roaming\\Python\\Python38\\site-packages\\twisted\\internet\\task.py:239:__call__\n",
      "--- <exception caught here> ---\n",
      "C:\\Users\\rmart\\AppData\\Roaming\\Python\\Python38\\site-packages\\txppb\\__init__.py:67:run\n",
      "C:\\Users\\rmart\\AppData\\Roaming\\Python\\Python38\\site-packages\\txppb\\__init__.py:35:main_loop\n",
      "C:\\Users\\rmart\\AppData\\Roaming\\Python\\Python38\\site-packages\\twisted\\internet\\defer.py:151:maybeDeferred\n",
      "C:\\Users\\rmart\\AppData\\Roaming\\Python\\Python38\\site-packages\\txppb\\__init__.py:30:loop_once\n",
      "C:\\Users\\rmart\\AppData\\Roaming\\Python\\Python38\\site-packages\\ppb\\engine.py:183:loop_once\n",
      "C:\\Users\\rmart\\AppData\\Roaming\\Python\\Python38\\site-packages\\ppb\\engine.py:232:publish\n",
      "C:\\Users\\rmart\\AppData\\Roaming\\Python\\Python38\\site-packages\\ppb\\systems\\renderer.py:200:on_render\n",
      "C:\\Users\\rmart\\AppData\\Roaming\\Python\\Python38\\site-packages\\ppb\\systems\\_sdl_utils.py:39:sdl_call\n",
      "]\n"
     ]
    }
   ],
   "source": [
    "Fish.x_offset = 0.05\n",
    "Fish.y_offset = 0.2\n",
    "@set_in_class(Fish)\n",
    "def on_update(self, update_event,signal):\n",
    "    penguin, = update_event.scene.get(kind=Penguin)\n",
    "    if collide(penguin, self):\n",
    "        update_event.scene.remove(self)"
   ]
  },
  {
   "cell_type": "code",
   "execution_count": null,
   "metadata": {},
   "outputs": [],
   "source": []
  }
 ],
 "metadata": {
  "kernelspec": {
   "display_name": "Python 3 (Spyder)",
   "language": "python3",
   "name": "python3"
  },
  "language_info": {
   "codemirror_mode": {
    "name": "ipython",
    "version": 3
   },
   "file_extension": ".py",
   "mimetype": "text/x-python",
   "name": "python",
   "nbconvert_exporter": "python",
   "pygments_lexer": "ipython3",
   "version": "3.8.5"
  }
 },
 "nbformat": 4,
 "nbformat_minor": 4
}
